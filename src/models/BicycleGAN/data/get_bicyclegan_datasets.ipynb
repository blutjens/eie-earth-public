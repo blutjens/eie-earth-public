{
 "cells": [
  {
   "cell_type": "markdown",
   "metadata": {},
   "source": [
    "Download public benchmark datasets using the following script and running them on the notebook GCP terminal:\n",
    "\n",
    "1. cd BicycleGAN\n",
    "2. Download teh test set only: \n",
    "\n",
    "bash ./datasets/download_testset.sh dataset_name\n",
    "\n",
    "3. Download the training and testset.\n",
    "\n",
    "bash ./datasets/download_dataset.sh dataset_name\n",
    "\n",
    "# DATASETS (standard, used in pix2pix)\n",
    "\n",
    "* facades: 400 images from CMP Facades dataset. \n",
    "\n",
    "* maps: 1096 training images scraped from Google Maps\n",
    "\n",
    "* edges2shoes: 50k training images from UT Zappos50K dataset. Edges are computed by HED edge detector + post-processing. \n",
    "\n",
    "* edges2handbags: 137K Amazon Handbag images from iGAN project. Edges are computed by HED edge detector + post-processing.\n",
    "\n",
    "* night2day: around 20K natural scene images from Transient Attributes dataset "
   ]
  },
  {
   "cell_type": "markdown",
   "metadata": {},
   "source": [
    "How to create a paired dataset for pix2pix and alike models. To add (Chris?)\n"
   ]
  },
  {
   "cell_type": "markdown",
   "metadata": {},
   "source": []
  },
  {
   "cell_type": "code",
   "execution_count": 17,
   "metadata": {},
   "outputs": [
    {
     "name": "stdout",
     "output_type": "stream",
     "text": [
      "data\t  LICENSE  pretrained_models  results  train.py  videos\n",
      "datasets  models   README.md\t      scripts  util\n",
      "imgs\t  options  requirements.txt   test.py  video.py\n"
     ]
    }
   ],
   "source": [
    "!cd BicycleGAN; ls"
   ]
  },
  {
   "cell_type": "code",
   "execution_count": null,
   "metadata": {},
   "outputs": [],
   "source": []
  }
 ],
 "metadata": {
  "environment": {
   "name": "pytorch-gpu.1-4.m49",
   "type": "gcloud",
   "uri": "gcr.io/deeplearning-platform-release/pytorch-gpu.1-4:m49"
  },
  "kernelspec": {
   "display_name": "Python 3",
   "language": "python",
   "name": "python3"
  },
  "language_info": {
   "codemirror_mode": {
    "name": "ipython",
    "version": 3
   },
   "file_extension": ".py",
   "mimetype": "text/x-python",
   "name": "python",
   "nbconvert_exporter": "python",
   "pygments_lexer": "ipython3",
   "version": "3.7.6"
  }
 },
 "nbformat": 4,
 "nbformat_minor": 4
}
