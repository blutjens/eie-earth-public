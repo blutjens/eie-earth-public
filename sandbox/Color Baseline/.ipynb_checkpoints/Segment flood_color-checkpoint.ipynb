{
 "cells": [
  {
   "cell_type": "code",
   "execution_count": null,
   "metadata": {},
   "outputs": [
    {
     "name": "stdout",
     "output_type": "stream",
     "text": [
      "----------------- Options ---------------\n",
      "             aspect_ratio: 1.0                           \n",
      "               batch_size: 1                             \n",
      "          checkpoints_dir: ./pretrained/Pix2pix-CycleGAN/flood_segmentation/scratch_1024_plus/\t[default: ./checkpoints]\n",
      "                crop_size: 1024                          \t[default: 256]\n",
      "                 dataroot: results/flood_color/conditional_binary_segmented\t[default: None]\n",
      "             dataset_mode: single                        \t[default: aligned]\n",
      "                direction: AtoB                          \n",
      "          display_winsize: 256                           \n",
      "                    epoch: latest                        \n",
      "                     eval: False                         \n",
      "                  gpu_ids: -1                            \t[default: 0]\n",
      "                init_gain: 0.02                          \n",
      "                init_type: normal                        \n",
      "                 input_nc: 3                             \n",
      "               isFineTune: False                         \t[default: None]\n",
      "                  isTrain: False                         \t[default: None]\n",
      "                load_iter: 0                             \t[default: 0]\n",
      "                load_size: 1024                          \t[default: 256]\n",
      "         max_dataset_size: inf                           \n",
      "                    model: pix2pix                       \t[default: test]\n",
      "               n_layers_D: 3                             \n",
      "                     name: .                             \t[default: experiment_name]\n",
      "                      ndf: 64                            \n",
      "                     netD: basic                         \n",
      "                     netG: unet_256                      \n",
      "                      ngf: 64                            \n",
      "               no_dropout: False                         \n",
      "                  no_flip: True                          \t[default: False]\n",
      "                     norm: batch                         \n",
      "                 num_test: 775                           \t[default: 50]\n",
      "              num_threads: 4                             \n",
      "                output_nc: 3                             \n",
      "                    phase:                               \t[default: test]\n",
      "               preprocess: resize_and_crop               \n",
      "              results_dir: ./temp/flood_color/           \t[default: ./results/]\n",
      "           serial_batches: False                         \n",
      "                   suffix:                               \n",
      "                  verbose: False                         \n",
      "----------------- End -------------------\n",
      "dataset [SingleDataset] was created\n",
      "initialize network with normal\n",
      "model [Pix2PixModel] was created\n",
      "loading the model from ./pretrained/Pix2pix-CycleGAN/flood_segmentation/scratch_1024_plus/./latest_net_G.pth\n",
      "---------- Networks initialized -------------\n",
      "[Network G] Total number of parameters : 54.414 M\n",
      "-----------------------------------------------\n",
      "creating web directory ./temp/flood_color/./_latest\n",
      "processing (0000)-th image... ['results/flood_color/conditional_binary_segmented/test-set_test_images_labels_targets_test_images_hurricane-florence_00000004_pre_disaster_synthesized_image.jpg']\n",
      "processing (0005)-th image... ['results/flood_color/conditional_binary_segmented/test-set_test_images_labels_targets_test_images_hurricane-florence_00000029_pre_disaster_synthesized_image.jpg']\n",
      "processing (0010)-th image... ['results/flood_color/conditional_binary_segmented/test-set_test_images_labels_targets_test_images_hurricane-florence_00000077_pre_disaster_synthesized_image.jpg']\n",
      "processing (0015)-th image... ['results/flood_color/conditional_binary_segmented/test-set_test_images_labels_targets_test_images_hurricane-florence_00000112_pre_disaster_synthesized_image.jpg']\n",
      "processing (0020)-th image... ['results/flood_color/conditional_binary_segmented/test-set_test_images_labels_targets_test_images_hurricane-florence_00000125_pre_disaster_synthesized_image.jpg']\n",
      "processing (0025)-th image... ['results/flood_color/conditional_binary_segmented/test-set_test_images_labels_targets_test_images_hurricane-florence_00000133_pre_disaster_synthesized_image.jpg']\n",
      "processing (0030)-th image... ['results/flood_color/conditional_binary_segmented/test-set_test_images_labels_targets_test_images_hurricane-florence_00000150_pre_disaster_synthesized_image.jpg']\n",
      "processing (0035)-th image... ['results/flood_color/conditional_binary_segmented/test-set_test_images_labels_targets_test_images_hurricane-florence_00000171_pre_disaster_synthesized_image.jpg']\n",
      "processing (0040)-th image... ['results/flood_color/conditional_binary_segmented/test-set_test_images_labels_targets_test_images_hurricane-florence_00000179_pre_disaster_synthesized_image.jpg']\n",
      "processing (0045)-th image... ['results/flood_color/conditional_binary_segmented/test-set_test_images_labels_targets_test_images_hurricane-florence_00000196_pre_disaster_synthesized_image.jpg']\n",
      "processing (0050)-th image... ['results/flood_color/conditional_binary_segmented/test-set_test_images_labels_targets_test_images_hurricane-florence_00000211_pre_disaster_synthesized_image.jpg']\n",
      "processing (0055)-th image... ['results/flood_color/conditional_binary_segmented/test-set_test_images_labels_targets_test_images_hurricane-florence_00000240_pre_disaster_synthesized_image.jpg']\n",
      "processing (0060)-th image... ['results/flood_color/conditional_binary_segmented/test-set_test_images_labels_targets_test_images_hurricane-florence_00000267_pre_disaster_synthesized_image.jpg']\n",
      "processing (0065)-th image... ['results/flood_color/conditional_binary_segmented/test-set_test_images_labels_targets_test_images_hurricane-florence_00000292_pre_disaster_synthesized_image.jpg']\n",
      "processing (0070)-th image... ['results/flood_color/conditional_binary_segmented/test-set_test_images_labels_targets_test_images_hurricane-florence_00000318_pre_disaster_synthesized_image.jpg']\n"
     ]
    }
   ],
   "source": [
    "#Create flood masks for color baseline\n",
    "\n",
    "#Create Segmentation Masks\n",
    "#Generate masks for all of the data generated by pix2pixHD_baseline\n",
    "! cd ../.. ; python src/models/Pix2pix-CycleGAN/test.py --phase \"\" --dataroot results/flood_color/conditional_binary_segmented --direction AtoB --results_dir ./temp/flood_color/ --dataset_mode single --model pix2pix --checkpoints_dir ./pretrained/Pix2pix-CycleGAN/flood_segmentation/scratch_1024_plus/ --name . --num_test 390 --no_flip --gpu_ids -1 --batch_size 1  --load_size 1024 --crop_size 1024\n"
   ]
  },
  {
   "cell_type": "code",
   "execution_count": null,
   "metadata": {},
   "outputs": [],
   "source": [
    "! cd ../.. ; cp -R temp/_latest/images/*fake_B.png results/flood_color/conditional_binary_segmented/"
   ]
  }
 ],
 "metadata": {
  "environment": {
   "name": "pytorch-gpu.1-4.m49",
   "type": "gcloud",
   "uri": "gcr.io/deeplearning-platform-release/pytorch-gpu.1-4:m49"
  },
  "kernelspec": {
   "display_name": "Python 3",
   "language": "python",
   "name": "python3"
  },
  "language_info": {
   "codemirror_mode": {
    "name": "ipython",
    "version": 3
   },
   "file_extension": ".py",
   "mimetype": "text/x-python",
   "name": "python",
   "nbconvert_exporter": "python",
   "pygments_lexer": "ipython3",
   "version": "3.7.6"
  }
 },
 "nbformat": 4,
 "nbformat_minor": 4
}
