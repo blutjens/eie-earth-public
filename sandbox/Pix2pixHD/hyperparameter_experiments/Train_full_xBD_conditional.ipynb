{
 "cells": [
  {
   "cell_type": "markdown",
   "metadata": {},
   "source": [
    "# Train a bigger pix2pixHD on binary masks 1024 aggresive augmentation"
   ]
  },
  {
   "cell_type": "code",
   "execution_count": null,
   "metadata": {},
   "outputs": [],
   "source": [
    "!cd ../.. ; python src/models/Pix2pixHD/train.py --continue_train --ngf 80 --ndf 40 --nef 24 --niter 80 --niter_decay 80 --checkpoints_dir temp/checkpoint/Pix2pixHD/ --name xBD_full_conditional_binary --dataroot xBD_full --dataset_mode physics_aligned_bin --no_instance --label_nc 0 --input_nc 4 --batchSize 8 --gpu_ids 0,1,2,3,4,5,6,7"
   ]
  },
  {
   "cell_type": "code",
   "execution_count": null,
   "metadata": {},
   "outputs": [],
   "source": [
    "#cp pretrained model into finetuning directory\n",
    "#Make a copy of the fully trained model to be finetuned on xBD_floods\n",
    "!cd ../../temp/checkpoint/Pix2pixHD/; mkdir conditional_binary_finetuned_augmented ;  cp xBD_full_conditional_binary/latest* conditional_binary_finetuned_augmented/ ; cp xBD_full_conditional_binary/iter* conditional_binary_finetuned_augmented/"
   ]
  },
  {
   "cell_type": "code",
   "execution_count": null,
   "metadata": {},
   "outputs": [],
   "source": [
    "#Finetuning step\n",
    "!cd ../.. ; python src/models/Pix2pixHD/train.py --continue_train --ngf 80 --ndf 40 --nef 24 --niter 110 --niter_decay 110 --checkpoints_dir temp/checkpoint/Pix2pixHD/ --name conditional_binary_finetuned_augmented --dataroot xBD_flood_augmented --dataset_mode physics_aligned_bin --no_instance --label_nc 0 --input_nc 4 --batchSize 8 --gpu_ids 0,1,2,3,4,5,6,7"
   ]
  },
  {
   "cell_type": "code",
   "execution_count": 41,
   "metadata": {},
   "outputs": [
    {
     "name": "stderr",
     "output_type": "stream",
     "text": [
      "ERROR:root:Internal Python error in the inspect module.\n",
      "Below is the traceback from this internal error.\n",
      "\n"
     ]
    },
    {
     "name": "stdout",
     "output_type": "stream",
     "text": [
      "Traceback (most recent call last):\n",
      "  File \"/opt/conda/lib/python3.7/site-packages/IPython/core/interactiveshell.py\", line 3331, in run_code\n",
      "    exec(code_obj, self.user_global_ns, self.user_ns)\n",
      "  File \"<ipython-input-41-db8f6f367f10>\", line 2, in <module>\n",
      "    time.sleep(6000)\n",
      "KeyboardInterrupt\n",
      "\n",
      "During handling of the above exception, another exception occurred:\n",
      "\n",
      "Traceback (most recent call last):\n",
      "  File \"/opt/conda/lib/python3.7/site-packages/IPython/core/interactiveshell.py\", line 2044, in showtraceback\n",
      "    stb = value._render_traceback_()\n",
      "AttributeError: 'KeyboardInterrupt' object has no attribute '_render_traceback_'\n",
      "\n",
      "During handling of the above exception, another exception occurred:\n",
      "\n",
      "Traceback (most recent call last):\n",
      "  File \"/opt/conda/lib/python3.7/site-packages/IPython/core/ultratb.py\", line 1148, in get_records\n",
      "    return _fixed_getinnerframes(etb, number_of_lines_of_context, tb_offset)\n",
      "  File \"/opt/conda/lib/python3.7/site-packages/IPython/core/ultratb.py\", line 316, in wrapped\n",
      "    return f(*args, **kwargs)\n",
      "  File \"/opt/conda/lib/python3.7/site-packages/IPython/core/ultratb.py\", line 350, in _fixed_getinnerframes\n",
      "    records = fix_frame_records_filenames(inspect.getinnerframes(etb, context))\n",
      "  File \"/opt/conda/lib/python3.7/inspect.py\", line 1502, in getinnerframes\n",
      "    frameinfo = (tb.tb_frame,) + getframeinfo(tb, context)\n",
      "  File \"/opt/conda/lib/python3.7/inspect.py\", line 1460, in getframeinfo\n",
      "    filename = getsourcefile(frame) or getfile(frame)\n",
      "  File \"/opt/conda/lib/python3.7/inspect.py\", line 696, in getsourcefile\n",
      "    if getattr(getmodule(object, filename), '__loader__', None) is not None:\n",
      "  File \"/opt/conda/lib/python3.7/inspect.py\", line 733, in getmodule\n",
      "    if ismodule(module) and hasattr(module, '__file__'):\n",
      "  File \"/opt/conda/lib/python3.7/inspect.py\", line 70, in ismodule\n",
      "    return isinstance(object, types.ModuleType)\n",
      "KeyboardInterrupt\n"
     ]
    },
    {
     "ename": "KeyboardInterrupt",
     "evalue": "",
     "output_type": "error",
     "traceback": [
      "\u001b[0;31m---------------------------------------------------------------------------\u001b[0m"
     ]
    }
   ],
   "source": [
    "import time\n",
    "time.sleep(6000)"
   ]
  },
  {
   "cell_type": "code",
   "execution_count": null,
   "metadata": {},
   "outputs": [],
   "source": [
    "#Finetuning step with the only non-augmented samples two epochs low Lr\n",
    "!cd ../.. ; python src/models/Pix2pixHD/train.py --continue_train --ngf 80 --ndf 40 --nef 24 --niter 120 --niter_decay 120 --checkpoints_dir temp/checkpoint/Pix2pixHD/ --name conditional_binary_finetuned_augmented --dataroot xBD_flood_augmented_noelastic --dataset_mode physics_aligned_bin --no_instance --label_nc 0 --input_nc 4 --batchSize 8 --gpu_ids 0,1,2,3,4,5,6,7"
   ]
  },
  {
   "cell_type": "code",
   "execution_count": null,
   "metadata": {},
   "outputs": [],
   "source": []
  },
  {
   "cell_type": "code",
   "execution_count": null,
   "metadata": {},
   "outputs": [],
   "source": [
    "#Generate predictions over the test set. \n",
    "!cd ../.. ; python src/models/Pix2pixHD/test.py --checkpoints_dir temp/checkpoint/Pix2pixHD/  --ngf 80 --nef 24 --phase test --how_many 2000 --name conditional_binary_finetuned_augmented --dataroot xBD --dataset_mode physics_aligned_bin --no_instance --label_nc 0 --batchSize 8 --input_nc 4 --gpu_ids 0,1,2,3,4,5,6,7 --results_dir temp/Pix2pixHD/\n"
   ]
  },
  {
   "cell_type": "markdown",
   "metadata": {},
   "source": [
    "### We move things around at the moment in ./Temp/\n",
    "The model output is placed into ./temp/ .We use this directory to work, then we carefully selects what goes into ./results/.\n",
    "./temp/ does not get uploaded into our bucket, only ./results/ do!"
   ]
  },
  {
   "cell_type": "code",
   "execution_count": null,
   "metadata": {},
   "outputs": [],
   "source": [
    "# Move synthesized results to a folder to be used by the segmentation network\n",
    "!cd ../../temp/Pix2pixHD/conditional_binary_finetuned_augmented/test_latest/ ; mkdir to_segment; cp -R images/*synthesized_image.jpg to_segment"
   ]
  },
  {
   "cell_type": "code",
   "execution_count": null,
   "metadata": {},
   "outputs": [],
   "source": [
    "#Create Segmentation Masks\n",
    "#Generate masks for all of the data generated by pix2pixHD_baseline\n",
    "! cd ../.. ; python src/models/Pix2pix-CycleGAN/test.py --phase to_segment --dataroot temp/Pix2pixHD/conditional_binary_finetuned_augmented/test_latest/ --direction AtoB --results_dir ./temp/Pix2pixHD/conditional_binary_finetuned_augmented_masks --dataset_mode single --model pix2pix --checkpoints_dir ./pretrained/Pix2pix-CycleGAN/flood_segmentation/scratch_1024_plus/ --name . --num_test 775 --no_flip --gpu_ids 0 --max_dataset_size 2000 --batch_size 1  --load_size 1024 --crop_size 1024\n"
   ]
  },
  {
   "cell_type": "markdown",
   "metadata": {},
   "source": [
    "### Now we copy our generated images into the right ./Results/. directory"
   ]
  },
  {
   "cell_type": "code",
   "execution_count": null,
   "metadata": {},
   "outputs": [],
   "source": [
    "! cd ../.. ; mkdir results/Pix2pixHD/conditional_binary_finetuned_augmented/ ; cp -R temp/Pix2pixHD/conditional_binary_finetuned_augmented/test_latest/images/* results/Pix2pixHD/conditional_binary_finetuned_augmented/ ; cp -R temp/Pix2pixHD/conditional_binary_finetuned_augmented_masks/to_segment_latest/images/*image_fake_B.png results/Pix2pixHD/conditional_binary_finetuned_augmented/"
   ]
  },
  {
   "cell_type": "code",
   "execution_count": null,
   "metadata": {},
   "outputs": [],
   "source": []
  }
 ],
 "metadata": {
  "environment": {
   "name": "pytorch-gpu.1-4.m49",
   "type": "gcloud",
   "uri": "gcr.io/deeplearning-platform-release/pytorch-gpu.1-4:m49"
  },
  "kernelspec": {
   "display_name": "Python 3",
   "language": "python",
   "name": "python3"
  },
  "language_info": {
   "codemirror_mode": {
    "name": "ipython",
    "version": 3
   },
   "file_extension": ".py",
   "mimetype": "text/x-python",
   "name": "python",
   "nbconvert_exporter": "python",
   "pygments_lexer": "ipython3",
   "version": "3.7.6"
  }
 },
 "nbformat": 4,
 "nbformat_minor": 4
}
