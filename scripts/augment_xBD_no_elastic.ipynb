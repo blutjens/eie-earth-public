{
 "cells": [
  {
   "cell_type": "code",
   "execution_count": null,
   "metadata": {},
   "outputs": [],
   "source": [
    "#Two modes, xBD and xBD_full (only floods vs all)\n",
    "#create xBD_full_augmented with n=4\n",
    "#create xBD_flood_augmented with n=10\n",
    "\n",
    "from augment_data import augment_dataset\n",
    "import multiprocessing as mp\n",
    "\n",
    "pool = mp.Pool(mp.cpu_count()-2)\n",
    "\n",
    "def collect_result(result):\n",
    "    global results\n",
    "    print(results)\n",
    "    results.append(result)\n",
    "    \n",
    "n_augments = 8\n",
    "load_from = \"../data/xBD/\"\n",
    "save_augmented_to = \"../data/xBD_flood_augmented_noelastic/\"\n",
    "start_at = 0\n",
    "end_at = 200\n",
    "starts = [*range(1219)]\n",
    "ends = [*range(1, 1220)]\n",
    "max_angle_rotate = 10\n",
    "\n",
    "for start, end in zip(starts,ends):\n",
    "    print(start)\n",
    "    pool.apply_async(augment_dataset, args=(load_from, save_augmented_to, n_augments, start, end, False, False, max_angle_rotate), callback=collect_result)\n",
    "    \n",
    "pool.close()    \n"
   ]
  }
 ],
 "metadata": {
  "environment": {
   "name": "pytorch-gpu.1-4.m49",
   "type": "gcloud",
   "uri": "gcr.io/deeplearning-platform-release/pytorch-gpu.1-4:m49"
  },
  "kernelspec": {
   "display_name": "Python 3",
   "language": "python",
   "name": "python3"
  },
  "language_info": {
   "codemirror_mode": {
    "name": "ipython",
    "version": 3
   },
   "file_extension": ".py",
   "mimetype": "text/x-python",
   "name": "python",
   "nbconvert_exporter": "python",
   "pygments_lexer": "ipython3",
   "version": "3.7.6"
  }
 },
 "nbformat": 4,
 "nbformat_minor": 4
}
