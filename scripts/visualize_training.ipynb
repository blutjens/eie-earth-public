{
 "cells": [
  {
   "cell_type": "code",
   "execution_count": 14,
   "metadata": {},
   "outputs": [
    {
     "data": {
      "text/html": [
       "<!DOCTYPE html>\n",
       "<html>\n",
       "  <head>\n",
       "    <title>Experiment name = conditional_binary_naip_to_all/</title>\n",
       "    <meta content=\"30\" http-equiv=\"refresh\">\n",
       "  </head>\n",
       "  <body>\n",
       "    <h3>epoch [1]</h3>\n",
       "    <table border=\"1\" style=\"table-layout: fixed;\">\n",
       "      <tr>\n",
       "        <td halign=\"center\" style=\"word-wrap: break-word;\" valign=\"top\">\n",
       "          <p>\n",
       "            <a href=\"images/epoch001_input_mask.jpg\">\n",
       "              <img src=\"images/epoch001_input_mask.jpg\" style=\"width:512px\">\n",
       "            </a><br>\n",
       "            <p>input_mask</p>\n",
       "          </p>\n",
       "        </td>\n",
       "        <td halign=\"center\" style=\"word-wrap: break-word;\" valign=\"top\">\n",
       "          <p>\n",
       "            <a href=\"images/epoch001_synthesized_post-flood.jpg\">\n",
       "              <img src=\"images/epoch001_synthesized_post-flood.jpg\" style=\"width:512px\">\n",
       "            </a><br>\n",
       "            <p>synthesized_post-flood</p>\n",
       "          </p>\n",
       "        </td>\n",
       "        <td halign=\"center\" style=\"word-wrap: break-word;\" valign=\"top\">\n",
       "          <p>\n",
       "            <a href=\"images/epoch001_input_pre-flood.jpg\">\n",
       "              <img src=\"images/epoch001_input_pre-flood.jpg\" style=\"width:512px\">\n",
       "            </a><br>\n",
       "            <p>input_pre-flood</p>\n",
       "          </p>\n",
       "        </td>\n",
       "        <td halign=\"center\" style=\"word-wrap: break-word;\" valign=\"top\">\n",
       "          <p>\n",
       "            <a href=\"images/epoch001_real_post-flood.jpg\">\n",
       "              <img src=\"images/epoch001_real_post-flood.jpg\" style=\"width:512px\">\n",
       "            </a><br>\n",
       "            <p>real_post-flood</p>\n",
       "          </p>\n",
       "        </td>\n",
       "      </tr>\n",
       "    </table>\n",
       "  </body>\n",
       "</html>"
      ],
      "text/plain": [
       "<IPython.core.display.HTML object>"
      ]
     },
     "metadata": {},
     "output_type": "display_data"
    }
   ],
   "source": [
    "from IPython.display import display\n",
    "from IPython.display import HTML\n",
    "\n",
    "display(HTML(filename='../temp/checkpoint/Pix2pixHD/conditional_binary_naip_to_all/web/index.html'))"
   ]
  },
  {
   "cell_type": "code",
   "execution_count": 1,
   "metadata": {},
   "outputs": [
    {
     "data": {
      "text/html": [
       "\n",
       "        <iframe\n",
       "            width=\"2200\"\n",
       "            height=\"1200\"\n",
       "            src=\"../temp/checkpoint/Pix2pixHD/conditional_binary_naip_to_all/web/index.html\"\n",
       "            frameborder=\"0\"\n",
       "            allowfullscreen\n",
       "            \n",
       "        ></iframe>\n",
       "        "
      ],
      "text/plain": [
       "<IPython.lib.display.IFrame at 0x7f9b6446f280>"
      ]
     },
     "execution_count": 1,
     "metadata": {},
     "output_type": "execute_result"
    }
   ],
   "source": [
    "from IPython.display import IFrame\n",
    "\n",
    "IFrame(src='../temp/checkpoint/Pix2pixHD/conditional_binary_naip_to_all/web/index.html', width=2200, height=1200)\n"
   ]
  },
  {
   "cell_type": "code",
   "execution_count": null,
   "metadata": {},
   "outputs": [],
   "source": []
  }
 ],
 "metadata": {
  "kernelspec": {
   "display_name": "Python 3 (ipykernel)",
   "language": "python",
   "name": "python3"
  },
  "language_info": {
   "codemirror_mode": {
    "name": "ipython",
    "version": 3
   },
   "file_extension": ".py",
   "mimetype": "text/x-python",
   "name": "python",
   "nbconvert_exporter": "python",
   "pygments_lexer": "ipython3",
   "version": "3.8.13"
  }
 },
 "nbformat": 4,
 "nbformat_minor": 4
}
